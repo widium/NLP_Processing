{
 "cells": [
  {
   "cell_type": "code",
   "execution_count": 1,
   "metadata": {},
   "outputs": [],
   "source": [
    "dataset = [\n",
    "    {'text': \"the game began development in 2010 , carrying over a large portion of the work done on valkyria chronicles ii . while it retained the standard features of the series , it also underwent multiple adjustments , such as making the game more forgiving for series newcomers . character designer <unk> <unk> and composer hitoshi sakimoto both returned from previous entries , along with valkyria chronicles ii director takeshi ozawa . a large team of writers handled the script . the game 's opening theme was sung by may 'n .\"},\n",
    "    {'text': \"it met with positive sales in japan , and was praised by both japanese and western critics . after release , it received downloadable content , along with an expanded edition in november of that year . it was also adapted into manga and an original video animation series . due to low sales of valkyria chronicles ii , valkyria chronicles iii was not localized , but a fan translation compatible with the game 's expanded edition was released in 2014 . <unk> would return to the franchise with the development of valkyria : azure revolution for the playstation 4 .\"},\n",
    "    {'text': \"troops are divided into five classes : scouts , <unk> , engineers , lancers and armored soldier . troopers can switch classes by changing their assigned weapon . changing class does not greatly affect the stats gained while in a previous class . with victory in battle , experience points are awarded to the squad , which are distributed into five different attributes shared by the entire squad , a feature differing from early games ' method of distributing to different unit types .\"},\n",
    "    {'text': \"unlike its two predecessors , valkyria chronicles iii was not released in the west . according to sega , this was due to poor sales of valkyria chronicles ii and the general unpopularity of the psp in the west . an unofficial fan translation patch began development in february 2012 : players with a copy of valkyria chronicles iii could download and apply the patch , which translated the game 's text into english . compatible with the extra edition , the patch was released in january 2014 .\"},\n",
    "    {'text': 'on its day of release in japan , valkyria chronicles iii topped both platform @-@ exclusive and multi @-@ platform sales charts . by early february , the game sold 102 @,@ 779 units , coming in second overall to the last story for the wii . by the end of the year , the game had sold just over 152 @,@ 500 units .'},\n",
    "    {'text': 'famitsu enjoyed the story , and were particularly pleased with the improvements to gameplay . japanese gaming site game watch impress , despite negatively noting its pacing and elements recycled from previous games , was generally positive about its story and characters , and found its gameplay entertaining despite off @-@ putting difficulty spikes . <unk> writer <unk> <unk> , in a \" play test \" article based on the game \\'s psn demo , felt that valkyria chronicles iii provided a \" profound feeling of closure \" for the valkyria chronicles series . he praised its gameplay despite annoying limitations to aspects such as special abilities , and positively noted its shift in story to a tone similar to the first game .'},\n",
    "    {'text': \"in a preview of the tgs demo , ryan geddes of ign was left excited as to where the game would go after completing the demo , along with enjoying the improved visuals over valkyria chronicles ii . kotaku 's richard <unk> was highly positive about the game , citing is story as a return to form after valkyria chronicles ii and its gameplay being the best in the series . his main criticisms were its length and gameplay repetition , along with expressing regret that it would not be localized .\"},\n",
    "    {'text': 'kurt and <unk> were featured in the nintendo 3ds crossover project x zone , representing the valkyria series . <unk> would return to the series to develop valkyria : azure revolution , with ozawa returning as director . azure revolution is a role @-@ playing video game for the playstation 4 that forms the beginning of a new series within the valkyria franchise .'},\n",
    "    {'text': 'the building receives its name from its distinct octagonal tower . besides being the last remaining structure of the original little rock arsenal and one of the oldest buildings in central arkansas , it was also the birthplace of general douglas macarthur , who became the supreme commander of us forces in the south pacific during world war ii . it was also the starting place of the camden expedition . in 2011 it was named as one of the top 10 attractions in the state of arkansas by <unk>'},\n",
    "    {'text': 'the united states troops at the outposts of the western frontier of the state and in the indian nation have all been recalled from winter quarters to reinforce the garrison at fort smith . the garrison at fort smith had been previously transferred to the united states arsenal in this city ( little rock ) . the arsenal is one of the richest <unk> of military stores in the united states and is supposed to be the ultimate destination of the <unk> [ sic ] ordered from the frontier .'}\n",
    "]"
   ]
  },
  {
   "cell_type": "code",
   "execution_count": 2,
   "metadata": {},
   "outputs": [
    {
     "data": {
      "text/plain": [
       "\"the game began development in 2010 , carrying over a large portion of the work done on valkyria chronicles ii . while it retained the standard features of the series , it also underwent multiple adjustments , such as making the game more forgiving for series newcomers . character designer <unk> <unk> and composer hitoshi sakimoto both returned from previous entries , along with valkyria chronicles ii director takeshi ozawa . a large team of writers handled the script . the game 's opening theme was sung by may 'n .\""
      ]
     },
     "execution_count": 2,
     "metadata": {},
     "output_type": "execute_result"
    }
   ],
   "source": [
    "dataset[0][\"text\"]"
   ]
  },
  {
   "attachments": {},
   "cell_type": "markdown",
   "metadata": {},
   "source": [
    "## Cleaner \n",
    "setup specified task of `Cleaner` like :\n",
    "- `string_case` : `\"HeLlO\"` to `\"hello\"`\n",
    "- `punctuations` : `\"?m/:y;# n'ame i(s E{d}die` to `\"my name is Eddie\"`\n",
    "- `stop_words` : `\"How do i install a software on my Computer\"` to `\"How install software Computer\"`\n",
    "- `stem_words` : `\"Im a Machine Learning Engineer who love Programming in Object Oriented Programming\"` \n",
    "- to `\"im a machin learn engin who love program in object orient program\"`"
   ]
  },
  {
   "cell_type": "code",
   "execution_count": 3,
   "metadata": {},
   "outputs": [
    {
     "name": "stdout",
     "output_type": "stream",
     "text": [
      "Original : The 'Game' began development in 2010 , carrying over a large portion of the work done on valkyria chronicles...\n",
      " Cleaned :the game began development in 2010 carrying over a large portion of the work done on valkyria chronicles\n"
     ]
    }
   ],
   "source": [
    "from cleaner import Cleaner\n",
    "\n",
    "cleaner = Cleaner(\n",
    "    string_case=True,\n",
    "    punctuations=True,\n",
    "    stop_words=False,\n",
    "    stem_words=False,\n",
    ")\n",
    "original_sentence = \"The 'Game' began development in 2010 , carrying over a large portion of the work done on valkyria chronicles...\"\n",
    "cleaned_sentence = cleaner.apply(sentence=original_sentence)\n",
    "\n",
    "print(\n",
    "    f\"Original : {original_sentence}\\n\",\n",
    "    f\"Cleaned :{cleaned_sentence}\"\n",
    ")"
   ]
  },
  {
   "cell_type": "code",
   "execution_count": 4,
   "metadata": {},
   "outputs": [
    {
     "data": {
      "text/plain": [
       "[{'text': \"the game began development in 2010 , carrying over a large portion of the work done on valkyria chronicles ii . while it retained the standard features of the series , it also underwent multiple adjustments , such as making the game more forgiving for series newcomers . character designer <unk> <unk> and composer hitoshi sakimoto both returned from previous entries , along with valkyria chronicles ii director takeshi ozawa . a large team of writers handled the script . the game 's opening theme was sung by may 'n .\"},\n",
       " {'text': \"it met with positive sales in japan , and was praised by both japanese and western critics . after release , it received downloadable content , along with an expanded edition in november of that year . it was also adapted into manga and an original video animation series . due to low sales of valkyria chronicles ii , valkyria chronicles iii was not localized , but a fan translation compatible with the game 's expanded edition was released in 2014 . <unk> would return to the franchise with the development of valkyria : azure revolution for the playstation 4 .\"},\n",
       " {'text': \"troops are divided into five classes : scouts , <unk> , engineers , lancers and armored soldier . troopers can switch classes by changing their assigned weapon . changing class does not greatly affect the stats gained while in a previous class . with victory in battle , experience points are awarded to the squad , which are distributed into five different attributes shared by the entire squad , a feature differing from early games ' method of distributing to different unit types .\"},\n",
       " {'text': \"unlike its two predecessors , valkyria chronicles iii was not released in the west . according to sega , this was due to poor sales of valkyria chronicles ii and the general unpopularity of the psp in the west . an unofficial fan translation patch began development in february 2012 : players with a copy of valkyria chronicles iii could download and apply the patch , which translated the game 's text into english . compatible with the extra edition , the patch was released in january 2014 .\"},\n",
       " {'text': 'on its day of release in japan , valkyria chronicles iii topped both platform @-@ exclusive and multi @-@ platform sales charts . by early february , the game sold 102 @,@ 779 units , coming in second overall to the last story for the wii . by the end of the year , the game had sold just over 152 @,@ 500 units .'},\n",
       " {'text': 'famitsu enjoyed the story , and were particularly pleased with the improvements to gameplay . japanese gaming site game watch impress , despite negatively noting its pacing and elements recycled from previous games , was generally positive about its story and characters , and found its gameplay entertaining despite off @-@ putting difficulty spikes . <unk> writer <unk> <unk> , in a \" play test \" article based on the game \\'s psn demo , felt that valkyria chronicles iii provided a \" profound feeling of closure \" for the valkyria chronicles series . he praised its gameplay despite annoying limitations to aspects such as special abilities , and positively noted its shift in story to a tone similar to the first game .'},\n",
       " {'text': \"in a preview of the tgs demo , ryan geddes of ign was left excited as to where the game would go after completing the demo , along with enjoying the improved visuals over valkyria chronicles ii . kotaku 's richard <unk> was highly positive about the game , citing is story as a return to form after valkyria chronicles ii and its gameplay being the best in the series . his main criticisms were its length and gameplay repetition , along with expressing regret that it would not be localized .\"},\n",
       " {'text': 'kurt and <unk> were featured in the nintendo 3ds crossover project x zone , representing the valkyria series . <unk> would return to the series to develop valkyria : azure revolution , with ozawa returning as director . azure revolution is a role @-@ playing video game for the playstation 4 that forms the beginning of a new series within the valkyria franchise .'},\n",
       " {'text': 'the building receives its name from its distinct octagonal tower . besides being the last remaining structure of the original little rock arsenal and one of the oldest buildings in central arkansas , it was also the birthplace of general douglas macarthur , who became the supreme commander of us forces in the south pacific during world war ii . it was also the starting place of the camden expedition . in 2011 it was named as one of the top 10 attractions in the state of arkansas by <unk>'},\n",
       " {'text': 'the united states troops at the outposts of the western frontier of the state and in the indian nation have all been recalled from winter quarters to reinforce the garrison at fort smith . the garrison at fort smith had been previously transferred to the united states arsenal in this city ( little rock ) . the arsenal is one of the richest <unk> of military stores in the united states and is supposed to be the ultimate destination of the <unk> [ sic ] ordered from the frontier .'}]"
      ]
     },
     "execution_count": 4,
     "metadata": {},
     "output_type": "execute_result"
    }
   ],
   "source": [
    "dataset"
   ]
  },
  {
   "cell_type": "code",
   "execution_count": 5,
   "metadata": {},
   "outputs": [
    {
     "data": {
      "text/plain": [
       "['the game began development in 2010 carrying over a large portion of the work done on valkyria chronicles ii while it retained the standard features of the series it also underwent multiple adjustments such as making the game more forgiving for series newcomers character designer unk unk and composer hitoshi sakimoto both returned from previous entries along with valkyria chronicles ii director takeshi ozawa a large team of writers handled the script the game s opening theme was sung by may n',\n",
       " 'it met with positive sales in japan and was praised by both japanese and western critics after release it received downloadable content along with an expanded edition in november of that year it was also adapted into manga and an original video animation series due to low sales of valkyria chronicles ii valkyria chronicles iii was not localized but a fan translation compatible with the game s expanded edition was released in 2014 unk would return to the franchise with the development of valkyria azure revolution for the playstation 4',\n",
       " 'troops are divided into five classes scouts unk engineers lancers and armored soldier troopers can switch classes by changing their assigned weapon changing class does not greatly affect the stats gained while in a previous class with victory in battle experience points are awarded to the squad which are distributed into five different attributes shared by the entire squad a feature differing from early games method of distributing to different unit types',\n",
       " 'unlike its two predecessors valkyria chronicles iii was not released in the west according to sega this was due to poor sales of valkyria chronicles ii and the general unpopularity of the psp in the west an unofficial fan translation patch began development in february 2012 players with a copy of valkyria chronicles iii could download and apply the patch which translated the game s text into english compatible with the extra edition the patch was released in january 2014',\n",
       " 'on its day of release in japan valkyria chronicles iii topped both platform exclusive and multi platform sales charts by early february the game sold 102 779 units coming in second overall to the last story for the wii by the end of the year the game had sold just over 152 500 units',\n",
       " 'famitsu enjoyed the story and were particularly pleased with the improvements to gameplay japanese gaming site game watch impress despite negatively noting its pacing and elements recycled from previous games was generally positive about its story and characters and found its gameplay entertaining despite off putting difficulty spikes unk writer unk unk in a play test article based on the game s psn demo felt that valkyria chronicles iii provided a profound feeling of closure for the valkyria chronicles series he praised its gameplay despite annoying limitations to aspects such as special abilities and positively noted its shift in story to a tone similar to the first game',\n",
       " 'in a preview of the tgs demo ryan geddes of ign was left excited as to where the game would go after completing the demo along with enjoying the improved visuals over valkyria chronicles ii kotaku s richard unk was highly positive about the game citing is story as a return to form after valkyria chronicles ii and its gameplay being the best in the series his main criticisms were its length and gameplay repetition along with expressing regret that it would not be localized',\n",
       " 'kurt and unk were featured in the nintendo 3ds crossover project x zone representing the valkyria series unk would return to the series to develop valkyria azure revolution with ozawa returning as director azure revolution is a role playing video game for the playstation 4 that forms the beginning of a new series within the valkyria franchise',\n",
       " 'the building receives its name from its distinct octagonal tower besides being the last remaining structure of the original little rock arsenal and one of the oldest buildings in central arkansas it was also the birthplace of general douglas macarthur who became the supreme commander of us forces in the south pacific during world war ii it was also the starting place of the camden expedition in 2011 it was named as one of the top 10 attractions in the state of arkansas by unk',\n",
       " 'the united states troops at the outposts of the western frontier of the state and in the indian nation have all been recalled from winter quarters to reinforce the garrison at fort smith the garrison at fort smith had been previously transferred to the united states arsenal in this city little rock the arsenal is one of the richest unk of military stores in the united states and is supposed to be the ultimate destination of the unk sic ordered from the frontier']"
      ]
     },
     "execution_count": 5,
     "metadata": {},
     "output_type": "execute_result"
    }
   ],
   "source": [
    "cleaned_dataset = [\n",
    "    cleaner.apply(sentence=sample[\"text\"])\n",
    "    for sample in dataset\n",
    "]\n",
    "\n",
    "cleaned_dataset"
   ]
  },
  {
   "attachments": {},
   "cell_type": "markdown",
   "metadata": {},
   "source": [
    "## Tokenizer\n",
    "Create Vocabulary of Words on Multi Cleaned Sentence\n",
    "- `word_vocabulary` : dictionary with `word : tokenID` for encode sentence\n",
    "- `token_vocabulary` : dictionary with `tokenID : word` for decode tokens\n",
    "- like :\n",
    "```python\n",
    "word_vocabulary\n",
    ">>> \n",
    "{'the': 0,\n",
    " 'game': 1,\n",
    " 'began': 2,\n",
    " 'development': 3,\n",
    " 'in': 4,\n",
    " '2010': 5,\n",
    " 'carrying': 6,\n",
    " 'over': 7,\n",
    " 'a': 8\n",
    " ...}\n",
    "\n",
    "token_vocabulary\n",
    ">>>\n",
    "{0: 'the',\n",
    " 1: 'game',\n",
    " 2: 'began',\n",
    " 3: 'development',\n",
    " 4: 'in',\n",
    " 5: '2010',\n",
    " 6: 'carrying',\n",
    " 7: 'over',\n",
    " 8: 'a',\n",
    "...'}\n",
    "```\n",
    "- encode sentence with `word_vocabulary` and some special tokens `<start>` `<stop>`, `<unk>`, ...\n",
    "- decode tokens list with `token_vocabulary`"
   ]
  },
  {
   "cell_type": "code",
   "execution_count": 6,
   "metadata": {},
   "outputs": [
    {
     "name": "stdout",
     "output_type": "stream",
     "text": [
      "367 367\n",
      "Tokenized Sentence : [363, 0, 1, 325, 4, 5, 365]\n",
      "Decoded tokens : ['<start>', 'the', 'game', 'starting', 'in', '2010', '<stop>']\n"
     ]
    }
   ],
   "source": [
    "from tokenizer import Tokenizer\n",
    "\n",
    "tokenizer = Tokenizer(max_vocab_size=1000,\n",
    "                      dataset=cleaned_dataset)\n",
    "\n",
    "tokenizer.create_vocabulary()\n",
    "\n",
    "print(\n",
    "    len(tokenizer.word_vocabulary), \n",
    "    len(tokenizer.token_vocabulary)\n",
    ")\n",
    "\n",
    "tokens = tokenizer.encode_sentence(sentence=\"the game starting in 2010\")\n",
    "sentence = tokenizer.decode_tokens(tokens=tokens)\n",
    "\n",
    "print(f\"Tokenized Sentence : {tokens}\")\n",
    "print(f\"Decoded tokens : {sentence}\")"
   ]
  },
  {
   "attachments": {},
   "cell_type": "markdown",
   "metadata": {},
   "source": [
    "## Vectorizer \n",
    "- the vectorizer convert list of Tokens ID to 1 dimensional vector with fixed lenght\n",
    "- the fixed lenght (`max_sequence_lenght`) is used for return the same size of vector for each sentence\n",
    "- if the list of tokens is smaller than vector lenght, add padding tokens `<pad>`\n",
    "- if the list of tokens is bigger thant vector lenght, cut the tokens list with indexing"
   ]
  },
  {
   "cell_type": "code",
   "execution_count": 7,
   "metadata": {},
   "outputs": [
    {
     "name": "stdout",
     "output_type": "stream",
     "text": [
      "--- Tokenized Sentence ---\n",
      "[363, 0, 1, 325, 4, 5, 365]\n",
      "\n",
      "--- Vectorized Sentence ---\n",
      "Shape : (20,)\n",
      "Vector : [363   0   1 325   4   5 365 364 364 364 364 364 364 364 364 364 364 364\n",
      " 364 364]\n",
      "\n",
      "--- Decoded tokens ---\n",
      "Sentence : ['<start>', 'the', 'game', 'starting', 'in', '2010', '<stop>', '<pad>', '<pad>', '<pad>', '<pad>', '<pad>', '<pad>', '<pad>', '<pad>', '<pad>', '<pad>', '<pad>', '<pad>', '<pad>']\n"
     ]
    }
   ],
   "source": [
    "from vectorizer import Vectorizer\n",
    "\n",
    "vectorizer = Vectorizer(\n",
    "    max_tokens=20,\n",
    "    padding_token=tokenizer.padding_token\n",
    ")\n",
    "\n",
    "tokens = tokenizer.encode_sentence(sentence=\"the game starting in 2010\")\n",
    "vector = vectorizer.vectorize_tokens(tokens=tokens)\n",
    "sentence = tokenizer.decode_tokens(vector)\n",
    "\n",
    "print(f\"--- Tokenized Sentence ---\\n{tokens}\\n\")\n",
    "print(f\"--- Vectorized Sentence ---\\nShape : {vector.shape}\\nVector : {vector}\\n\")\n",
    "print(f\"--- Decoded tokens ---\\nSentence : {sentence}\")"
   ]
  },
  {
   "attachments": {},
   "cell_type": "markdown",
   "metadata": {},
   "source": [
    "## Dataset\n",
    "- Create Dataset with all Preprocessing Class together\n",
    "- Cleaning\n",
    "- Tokenizing\n",
    "- Vectorizing\n",
    "- When call random index in instance it return Vectorized sample"
   ]
  },
  {
   "cell_type": "code",
   "execution_count": 12,
   "metadata": {},
   "outputs": [
    {
     "name": "stdout",
     "output_type": "stream",
     "text": [
      "--- Size of Dataset ---\n",
      "10\n",
      " --- Random Sample ---\n",
      "tensor([313, 289, 290,  82, 291,  51, 292, 288, 293, 294, 295, 296, 297, 298,\n",
      "        299, 300, 301, 299, 300, 301])\n"
     ]
    }
   ],
   "source": [
    "import random\n",
    "from language_dataset import LanguageModelingDataset\n",
    "\n",
    "VOCAB_SIZE = 10_000\n",
    "MAX_TOKENS = 20\n",
    "\n",
    "language_dataset = LanguageModelingDataset(\n",
    "    dataset=dataset,\n",
    "    vocab_size=VOCAB_SIZE,\n",
    "    max_tokens=MAX_TOKENS,\n",
    "    string_case=True,\n",
    "    punctuations=True,\n",
    "    stop_words=True,\n",
    "    stem_words=False,\n",
    "    language=\"english\"\n",
    ")\n",
    "\n",
    "random_index = random.randint(0, len(language_dataset) - 1)\n",
    "\n",
    "print(\n",
    "    f\"--- Size of Dataset ---\\n{len(language_dataset)}\\n\",\n",
    "    f\"--- Random Sample ---\\n{language_dataset[random_index]}\"\n",
    ")"
   ]
  }
 ],
 "metadata": {
  "kernelspec": {
   "display_name": "tf_gpu",
   "language": "python",
   "name": "python3"
  },
  "language_info": {
   "codemirror_mode": {
    "name": "ipython",
    "version": 3
   },
   "file_extension": ".py",
   "mimetype": "text/x-python",
   "name": "python",
   "nbconvert_exporter": "python",
   "pygments_lexer": "ipython3",
   "version": "3.8.0"
  },
  "orig_nbformat": 4
 },
 "nbformat": 4,
 "nbformat_minor": 2
}
